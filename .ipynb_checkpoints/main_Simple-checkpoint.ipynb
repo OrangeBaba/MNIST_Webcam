{
 "cells": [
  {
   "cell_type": "code",
   "execution_count": 37,
   "id": "96b7975f",
   "metadata": {},
   "outputs": [],
   "source": []
  },
  {
   "cell_type": "code",
   "execution_count": 1,
   "id": "df84ff86",
   "metadata": {},
   "outputs": [],
   "source": [
    "# カメラの初期処理。非常に時間がかかる。\n",
    "from common.Cammera import *\n",
    "\n",
    "# テスト用画像撮影\n",
    "cap = setup()\n"
   ]
  },
  {
   "cell_type": "code",
   "execution_count": 40,
   "id": "2dadbe1c",
   "metadata": {},
   "outputs": [
    {
     "name": "stdout",
     "output_type": "stream",
     "text": [
      "calculating test accuracy ... \n",
      "149.0\n",
      "(1, 28, 28)\n",
      "======= misclassified result =======\n",
      "{view index: (label, inference), ...}\n",
      "5\n",
      "[[-2390.17019761 -4871.88624141 -1774.59707671 -2333.99287543\n",
      "   -656.78182465  -146.82983606 -1064.44954617 -1510.38093894\n",
      "   -750.0423886  -3139.70526621]]\n"
     ]
    },
    {
     "data": {
      "image/png": "[encoded data removed]",
      "text/plain": [
       "<Figure size 432x288 with 1 Axes>"
      ]
     },
     "metadata": {
      "needs_background": "light"
     },
     "output_type": "display_data"
    }
   ],
   "source": [
    "# coding: utf-8\n",
    "from PIL import Image\n",
    "import numpy as np\n",
    "import matplotlib.pyplot as plt\n",
    "from dataset.mnist import load_mnist\n",
    "from network.SimpleConvNet import SimpleConvNet\n",
    "from common.PictureConverter import *\n",
    "import cv2\n",
    "\n",
    "thumb_width = 200\n",
    "network = SimpleConvNet(input_dim=(1,28,28), \n",
    "                        conv_param = {'filter_num': 30, 'filter_size': 5, 'pad': 0, 'stride': 1},\n",
    "                        hidden_size=100, output_size=10, weight_init_std=0.01)\n",
    "#network.load_params(\"parameter\\\\train10000_test2000_epoch20.pkl\")  # 6って答えてしまう(4とは全く思ってない)\n",
    "#network.load_params(\"parameter\\\\train5000_test1000_epoch20.pkl\")   # 6って答えてしまう(2か4かもしれんとは言ってる)\n",
    "#network.load_params(\"parameter\\\\train60000_test10000_epoch10.pkl\") # 6って答えてしまう(4かもしれんとは言ってる)\n",
    "network.load_params(\"parameter\\\\train60000_test10000_epoch20.pkl\") # 4って答えられる(6かもしれんとは言ってる)\n",
    "\n",
    "print(\"calculating test accuracy ... \")\n",
    "\n",
    "# １．Webカメラで手書き文字を撮影\n",
    "ret, frame = cap.read()\n",
    "capture(image_name, frame)\n",
    "# 画像変換(#1～#4)\n",
    "PictureConvert()\n",
    "\n",
    "# 黒背景に白文字でないとうまく判断できない。（白黒画像なので。。。）\n",
    "img = Image.open(\"mnist_data\\\\Number_wb.jpg\").convert('L')\n",
    "plt.imshow(img)\n",
    "\n",
    "# 画像を28*28に変換\n",
    "img.thumbnail((28, 28)) \n",
    "plt.imshow(img)\n",
    "img_array = np.array(img).reshape(1,28,28) # numpy arrayに変換\n",
    "print(img_array.shape)\n",
    "\n",
    "pred = network.predict(img_array[np.newaxis])\n",
    "\n",
    "print(\"======= misclassified result =======\")\n",
    "print(\"{view index: (label, inference), ...}\")\n",
    "\n",
    "print(np.argmax(pred))\n",
    "print(pred)"
   ]
  }
 ],
 "metadata": {
  "kernelspec": {
   "display_name": "Python 3 (ipykernel)",
   "language": "python",
   "name": "python3"
  },
  "language_info": {
   "codemirror_mode": {
    "name": "ipython",
    "version": 3
   },
   "file_extension": ".py",
   "mimetype": "text/x-python",
   "name": "python",
   "nbconvert_exporter": "python",
   "pygments_lexer": "ipython3",
   "version": "3.9.12"
  }
 },
 "nbformat": 4,
 "nbformat_minor": 5
}
